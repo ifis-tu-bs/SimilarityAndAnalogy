{
 "cells": [
  {
   "cell_type": "code",
   "execution_count": 1,
   "metadata": {
    "collapsed": true
   },
   "outputs": [],
   "source": [
    "## CONFIG\n",
    "model_version = \"s2v\"   # one of s2v, aida, or w2v\n",
    "run_completion_experiment = False\n",
    "run_ranking_experiment = True\n",
    "exclude_minority_vectores = False\n",
    "log_path = \"/opt3/home/lofi/github/SimilarityAndAnalogy/analogy/btw17/log/\""
   ]
  },
  {
   "cell_type": "code",
   "execution_count": 2,
   "metadata": {
    "collapsed": true
   },
   "outputs": [],
   "source": [
    "import pandas as pd\n",
    "import numpy as np"
   ]
  },
  {
   "cell_type": "code",
   "execution_count": 3,
   "metadata": {
    "collapsed": false
   },
   "outputs": [],
   "source": [
    "result_file_name=log_path+model_version+\"_\"+(\"NoMinority\" if exclude_minority_vectores else \"Minority\")+\".result.csv\""
   ]
  },
  {
   "cell_type": "code",
   "execution_count": 5,
   "metadata": {
    "collapsed": false
   },
   "outputs": [],
   "source": [
    "r_columns=('a1','a2','b1','b2','ags_rating','model_rating')\n",
    "df=pd.read_csv(result_file_name, sep='\\t', encoding='utf-8')\n",
    "groups=df.groupby(by=\"a1\")\n"
   ]
  },
  {
   "cell_type": "raw",
   "metadata": {
    "collapsed": true
   },
   "source": [
    "print(df)"
   ]
  },
  {
   "cell_type": "code",
   "execution_count": null,
   "metadata": {
    "collapsed": true
   },
   "outputs": [],
   "source": []
  }
 ],
 "metadata": {
  "anaconda-cloud": {},
  "kernelspec": {
   "display_name": "Python [Root]",
   "language": "python",
   "name": "Python [Root]"
  },
  "language_info": {
   "codemirror_mode": {
    "name": "ipython",
    "version": 3
   },
   "file_extension": ".py",
   "mimetype": "text/x-python",
   "name": "python",
   "nbconvert_exporter": "python",
   "pygments_lexer": "ipython3",
   "version": "3.5.2"
  }
 },
 "nbformat": 4,
 "nbformat_minor": 0
}
