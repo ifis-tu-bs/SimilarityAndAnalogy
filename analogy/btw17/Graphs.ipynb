{
 "cells": [
  {
   "cell_type": "code",
   "execution_count": null,
   "metadata": {
    "collapsed": true
   },
   "outputs": [],
   "source": [
    "import seaborn as sns\n",
    "import matplotlib.pyplot as plt\n",
    "\n",
    "%matplotlib inline\n",
    "\n",
    "# combine the raw data frame with the group id's discovered by the clustering\n",
    "clustered_data=df_wn.merge(learner2group, on='course_learner_id')\n",
    "\n",
    "##setup styles\n",
    "sns.set(style=\"darkgrid\")\n",
    "\n",
    "## the old factorplot with lines\n",
    "# ax = sns.factorplot(x=\"rel_week\", y=\"score\", hue=\"group\", data=clustered_data, size=8, aspect=1.5)\n",
    "## and with boxes\n",
    "# ax = sns.factorplot(kind=\"box\", x=\"rel_week\", y=\"score\", col=\"group\", data=clustered_data, size=8, aspect=1.5)\n",
    "\n",
    "## time series plot with error bands\n",
    "# errstyles={'ci_band', 'ci_bars', 'boot_traces', 'boot_kde', 'unit_traces', 'unit_points'}.\n",
    "ax = sns.tsplot(time=\"rel_week\", unit=\"course_learner_id\", value=\"score\", condition=\"group\", \n",
    "                 data=clustered_data, err_style={'ci_band'}, ci=[70, 99], interpolate=True)\n",
    "ax.set(xlabel='week', ylabel='exercise score in %')\n",
    "plt.title(coursetitle+\": Passer Group \"+str(week))\n",
    "plt.show()\n",
    "\n",
    "\n",
    "ax.get_figure().savefig(\"C:/Users/chris/Documents/Python Scripts/yue/img/\"+coursetitle+\"_\"+week+\".png\")"
   ]
  }
 ],
 "metadata": {
  "kernelspec": {
   "display_name": "Python 3",
   "language": "python",
   "name": "python3"
  },
  "language_info": {
   "codemirror_mode": {
    "name": "ipython",
    "version": 3
   },
   "file_extension": ".py",
   "mimetype": "text/x-python",
   "name": "python",
   "nbconvert_exporter": "python",
   "pygments_lexer": "ipython3",
   "version": "3.5.1"
  }
 },
 "nbformat": 4,
 "nbformat_minor": 0
}
